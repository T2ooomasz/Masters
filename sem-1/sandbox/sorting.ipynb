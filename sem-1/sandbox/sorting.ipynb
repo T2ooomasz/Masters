{
 "cells": [
  {
   "cell_type": "code",
   "execution_count": 72,
   "id": "d3b0983b",
   "metadata": {},
   "outputs": [],
   "source": [
    "import random"
   ]
  },
  {
   "cell_type": "code",
   "execution_count": 73,
   "id": "2d37def8",
   "metadata": {},
   "outputs": [],
   "source": [
    "def quick_sort(A):\n",
    "    if len(A) <=1: return A\n",
    "\n",
    "    pivot = A[0]\n",
    "    left = []\n",
    "    center = []\n",
    "    right = []\n",
    "\n",
    "    for i in range(len(A)):\n",
    "        if A[i] < pivot:\n",
    "            left.append(A[i])\n",
    "        elif A[i] == pivot:\n",
    "            center.append(A[i])\n",
    "        else:\n",
    "            right.append(A[i])\n",
    "    \n",
    "    left = quick_sort(left)\n",
    "    right = quick_sort(right)\n",
    "\n",
    "    return left + center + right"
   ]
  },
  {
   "cell_type": "code",
   "execution_count": 74,
   "id": "879c26b7",
   "metadata": {},
   "outputs": [],
   "source": [
    "def validate_sorted(A):\n",
    "    for i in range(len(A)-1):\n",
    "        if A[i] > A[i+1]: \n",
    "            print(A[i], A[i+1])\n",
    "            return False\n",
    "    return True"
   ]
  },
  {
   "cell_type": "code",
   "execution_count": 80,
   "id": "760c9ea9",
   "metadata": {},
   "outputs": [
    {
     "name": "stdout",
     "output_type": "stream",
     "text": [
      "is sorted: True\n"
     ]
    }
   ],
   "source": [
    "n = 1000_000\n",
    "A = [random.randint(1,n*n) for _ in range(n)]\n",
    "result = quick_sort(A)\n",
    "print(\"is sorted:\", validate_sorted(result))"
   ]
  }
 ],
 "metadata": {
  "kernelspec": {
   "display_name": "Python 3",
   "language": "python",
   "name": "python3"
  },
  "language_info": {
   "codemirror_mode": {
    "name": "ipython",
    "version": 3
   },
   "file_extension": ".py",
   "mimetype": "text/x-python",
   "name": "python",
   "nbconvert_exporter": "python",
   "pygments_lexer": "ipython3",
   "version": "3.13.4"
  }
 },
 "nbformat": 4,
 "nbformat_minor": 5
}
