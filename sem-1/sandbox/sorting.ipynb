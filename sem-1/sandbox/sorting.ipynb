{
 "cells": [
  {
   "cell_type": "code",
   "execution_count": 1,
   "id": "d3b0983b",
   "metadata": {},
   "outputs": [],
   "source": [
    "import random"
   ]
  },
  {
   "cell_type": "code",
   "execution_count": 2,
   "id": "2d37def8",
   "metadata": {},
   "outputs": [],
   "source": [
    "def quick_sort(A):\n",
    "    if len(A) <=1: return A\n",
    "\n",
    "    pivot = A[0]\n",
    "    left = []\n",
    "    center = []\n",
    "    right = []\n",
    "\n",
    "    for i in range(len(A)):\n",
    "        if A[i] < pivot:\n",
    "            left.append(A[i])\n",
    "        elif A[i] == pivot:\n",
    "            center.append(A[i])\n",
    "        else:\n",
    "            right.append(A[i])\n",
    "    \n",
    "    left = quick_sort(left)\n",
    "    right = quick_sort(right)\n",
    "\n",
    "    return left + center + right"
   ]
  },
  {
   "cell_type": "code",
   "execution_count": null,
   "id": "a632139d",
   "metadata": {},
   "outputs": [],
   "source": [
    "def double_pivot_quick_sort(A):\n",
    "    '''\n",
    "    Bad implementation - 0 speedup compared to simple quick sort!\n",
    "    '''\n",
    "    # Taking care of zero and one element list:\n",
    "    if len(A) <= 1:\n",
    "        return A\n",
    "    # taking care of two element list: - swap if not in order\n",
    "    if len(A) <=2: \n",
    "        if A[0] > A[1]:\n",
    "            A[0], A[1] = A[1], A[0]\n",
    "        return A\n",
    "\n",
    "    # pivot_1 < pivot_2\n",
    "    i=1\n",
    "    while A[0] == A[i]: # ostatni element to len(A)-1 -> len(A)-1 == i\n",
    "        if len(A) == (i+1):\n",
    "            return A # all elements in A are the same\n",
    "        i += 1\n",
    "\n",
    "    if A[0] > A[i]:\n",
    "        pivot_1 = A[i]\n",
    "        pivot_2 = A[0]\n",
    "    else:\n",
    "        pivot_1 = A[0]\n",
    "        pivot_2 = A[i]\n",
    "\n",
    "    left = []\n",
    "    center = []\n",
    "    right = []\n",
    "\n",
    "    for i in range(len(A)):\n",
    "        if A[i] < pivot_1:\n",
    "            left.append(A[i])\n",
    "        elif A[i] < pivot_2:\n",
    "            center.append(A[i])\n",
    "        else:\n",
    "            right.append(A[i])\n",
    "    \n",
    "    left = double_pivot_quick_sort(left)\n",
    "    center = double_pivot_quick_sort(center)\n",
    "    right = double_pivot_quick_sort(right)\n",
    "\n",
    "    return left + center + right"
   ]
  },
  {
   "cell_type": "code",
   "execution_count": 11,
   "id": "4ac4fcb3",
   "metadata": {},
   "outputs": [],
   "source": [
    "def buble_sort(A):\n",
    "    for j in range(len(A)-1):\n",
    "        for i in range(len(A)-j-1):\n",
    "            if A[i] > A[i+1]:\n",
    "                A[i], A[i+1] = A[i+1], A[i]\n",
    "    return A"
   ]
  },
  {
   "cell_type": "code",
   "execution_count": 12,
   "id": "879c26b7",
   "metadata": {},
   "outputs": [],
   "source": [
    "def validate_sorted(A):\n",
    "    for i in range(len(A)-1):\n",
    "        if A[i] > A[i+1]: \n",
    "            print(A[i], A[i+1])\n",
    "            return False\n",
    "    return True"
   ]
  },
  {
   "cell_type": "code",
   "execution_count": 13,
   "id": "760c9ea9",
   "metadata": {},
   "outputs": [
    {
     "name": "stdout",
     "output_type": "stream",
     "text": [
      "is sorted: True\n"
     ]
    }
   ],
   "source": [
    "n = 1000\n",
    "A = [random.randint(1,n*n) for _ in range(n)]\n",
    "result = quick_sort(A)\n",
    "print(\"is sorted:\", validate_sorted(result))"
   ]
  },
  {
   "cell_type": "code",
   "execution_count": 159,
   "id": "da108e66",
   "metadata": {},
   "outputs": [
    {
     "name": "stdout",
     "output_type": "stream",
     "text": [
      "is sorted: True\n"
     ]
    }
   ],
   "source": [
    "n = 10\n",
    "A = [random.randint(1,n*n) for _ in range(n)]\n",
    "result = double_pivot_quick_sort(A)\n",
    "print(\"is sorted:\", validate_sorted(result))"
   ]
  },
  {
   "cell_type": "code",
   "execution_count": null,
   "id": "ab2b8dbf",
   "metadata": {},
   "outputs": [],
   "source": [
    "# test stability - searching for edge cases e.g. three or more of the same values in array [42, 42, 42]\n",
    "for i in range(10000):\n",
    "    n = 100\n",
    "    A = [random.randint(1,n*n) for _ in range(n)]\n",
    "    result = double_pivot_quick_sort(A)\n",
    "    if not validate_sorted(result):\n",
    "        print(\"Not sorted!\")\n",
    "        break"
   ]
  },
  {
   "cell_type": "code",
   "execution_count": 16,
   "id": "1f836a4c",
   "metadata": {},
   "outputs": [
    {
     "name": "stdout",
     "output_type": "stream",
     "text": [
      "is sorted: True\n"
     ]
    }
   ],
   "source": [
    "n = 2**10\n",
    "A = [random.randint(1,n*n) for _ in range(n)]\n",
    "result = buble_sort(A)\n",
    "print(\"is sorted:\", validate_sorted(result))"
   ]
  },
  {
   "cell_type": "code",
   "execution_count": 18,
   "id": "e1d1211d",
   "metadata": {},
   "outputs": [],
   "source": [
    "import time"
   ]
  },
  {
   "cell_type": "code",
   "execution_count": 157,
   "id": "eefef0d7",
   "metadata": {},
   "outputs": [],
   "source": [
    "n = 20\n",
    "sizes = [2**i for i in range(5,n)]\n",
    "sizes =[1_000_000, 5_000_000, 10_000_000]\n",
    "time_sorting = {\n",
    "    \"sizes\" : [],\n",
    "    \"quick_sort\" : [],\n",
    "    \"buble_sort\" : [],\n",
    "    \"double_pivot_quick_sort\" : []\n",
    "}\n",
    "\n",
    "time_sorting[\"sizes\"] = sizes\n",
    "for size in sizes:\n",
    "    A = [random.randint(1,size*size) for _ in range(size)]\n",
    "    B = A.copy()\n",
    "    C = A.copy()\n",
    "    start = time.time()\n",
    "    result = quick_sort(A)\n",
    "    end = time.time()\n",
    "    if validate_sorted(result) == False: break\n",
    "    time_quick_sort = end - start\n",
    "\n",
    "    '''start = time.time()\n",
    "    result = buble_sort(B)\n",
    "    end = time.time()\n",
    "    if validate_sorted(result) == False: break\n",
    "    time_buble_sort = end - start'''\n",
    "\n",
    "    start = time.time()\n",
    "    result = double_pivot_quick_sort(C)\n",
    "    end = time.time()\n",
    "    if validate_sorted(result) == False: break\n",
    "    time_double_pivot_quick_sort = end - start\n",
    "\n",
    "    time_sorting[\"quick_sort\"].append(time_quick_sort)\n",
    "    #time_sorting[\"buble_sort\"].append(time_buble_sort)\n",
    "    time_sorting[\"double_pivot_quick_sort\"].append(time_double_pivot_quick_sort)\n",
    "\n"
   ]
  },
  {
   "cell_type": "code",
   "execution_count": 21,
   "id": "942fc6b8",
   "metadata": {},
   "outputs": [
    {
     "name": "stdout",
     "output_type": "stream",
     "text": [
      "{'sizes': [32, 64, 128, 256], 'quick_sort': [3.647804260253906e-05, 6.651878356933594e-05, 0.00014519691467285156, 0.00038123130798339844], 'buble_sort': [5.221366882324219e-05, 0.0001728534698486328, 0.0007665157318115234, 0.003178834915161133], 'double_pivot_quick_sort': [8.225440979003906e-05, 0.0002529621124267578, 0.0012865066528320312, 0.003408670425415039]}\n"
     ]
    }
   ],
   "source": [
    "print(time_sorting)"
   ]
  },
  {
   "cell_type": "code",
   "execution_count": 158,
   "id": "257f890c",
   "metadata": {},
   "outputs": [
    {
     "data": {
      "text/plain": [
       "<function matplotlib.pyplot.show(close=None, block=None)>"
      ]
     },
     "execution_count": 158,
     "metadata": {},
     "output_type": "execute_result"
    },
    {
     "data": {
      "image/png": "[encoded data removed]",
      "text/plain": [
       "<Figure size 640x480 with 1 Axes>"
      ]
     },
     "metadata": {},
     "output_type": "display_data"
    }
   ],
   "source": [
    "import matplotlib.pyplot as plt\n",
    "\n",
    "#plt.plot(time_sorting[\"sizes\"], time_sorting[\"buble_sort\"], marker = 'x')\n",
    "plt.plot(time_sorting[\"sizes\"], time_sorting[\"quick_sort\"], marker = 'o')\n",
    "plt.plot(time_sorting[\"sizes\"], time_sorting[\"double_pivot_quick_sort\"], marker = 'v')\n",
    "plt.xscale('log')\n",
    "plt.yscale('log')\n",
    "plt.xticks((time_sorting[\"sizes\"]), (time_sorting[\"sizes\"]))\n",
    "\n",
    "plt.show"
   ]
  }
 ],
 "metadata": {
  "kernelspec": {
   "display_name": "Python 3",
   "language": "python",
   "name": "python3"
  },
  "language_info": {
   "codemirror_mode": {
    "name": "ipython",
    "version": 3
   },
   "file_extension": ".py",
   "mimetype": "text/x-python",
   "name": "python",
   "nbconvert_exporter": "python",
   "pygments_lexer": "ipython3",
   "version": "3.13.4"
  }
 },
 "nbformat": 4,
 "nbformat_minor": 5
}
