{
 "cells": [
  {
   "cell_type": "code",
   "execution_count": 2,
   "id": "d3b0983b",
   "metadata": {},
   "outputs": [],
   "source": [
    "import random"
   ]
  },
  {
   "cell_type": "code",
   "execution_count": 3,
   "id": "2d37def8",
   "metadata": {},
   "outputs": [],
   "source": [
    "def quick_sort(A):\n",
    "    if len(A) <=1: return A\n",
    "\n",
    "    pivot = A[0]\n",
    "    left = []\n",
    "    center = []\n",
    "    right = []\n",
    "\n",
    "    for i in range(len(A)):\n",
    "        if A[i] < pivot:\n",
    "            left.append(A[i])\n",
    "        elif A[i] == pivot:\n",
    "            center.append(A[i])\n",
    "        else:\n",
    "            right.append(A[i])\n",
    "    \n",
    "    left = quick_sort(left)\n",
    "    right = quick_sort(right)\n",
    "\n",
    "    return left + center + right"
   ]
  },
  {
   "cell_type": "code",
   "execution_count": 35,
   "id": "4ac4fcb3",
   "metadata": {},
   "outputs": [],
   "source": [
    "def buble_sort(A):\n",
    "    for j in range(len(A)-1):\n",
    "        for i in range(len(A)-j-1):\n",
    "            if A[i] > A[i+1]:\n",
    "                A[i], A[i+1] = A[i+1], A[i]\n",
    "    return A"
   ]
  },
  {
   "cell_type": "code",
   "execution_count": 5,
   "id": "879c26b7",
   "metadata": {},
   "outputs": [],
   "source": [
    "def validate_sorted(A):\n",
    "    for i in range(len(A)-1):\n",
    "        if A[i] > A[i+1]: \n",
    "            print(A[i], A[i+1])\n",
    "            return False\n",
    "    return True"
   ]
  },
  {
   "cell_type": "code",
   "execution_count": 6,
   "id": "760c9ea9",
   "metadata": {},
   "outputs": [
    {
     "name": "stdout",
     "output_type": "stream",
     "text": [
      "is sorted: True\n"
     ]
    }
   ],
   "source": [
    "n = 1000\n",
    "A = [random.randint(1,n*n) for _ in range(n)]\n",
    "result = quick_sort(A)\n",
    "print(\"is sorted:\", validate_sorted(result))"
   ]
  },
  {
   "cell_type": "code",
   "execution_count": 72,
   "id": "1f836a4c",
   "metadata": {},
   "outputs": [
    {
     "name": "stdout",
     "output_type": "stream",
     "text": [
      "is sorted: True\n"
     ]
    }
   ],
   "source": [
    "n = 2**15\n",
    "A = [random.randint(1,n*n) for _ in range(n)]\n",
    "result = buble_sort(A)\n",
    "print(\"is sorted:\", validate_sorted(result))"
   ]
  },
  {
   "cell_type": "code",
   "execution_count": 40,
   "id": "e1d1211d",
   "metadata": {},
   "outputs": [],
   "source": [
    "import time"
   ]
  },
  {
   "cell_type": "code",
   "execution_count": 86,
   "id": "eefef0d7",
   "metadata": {},
   "outputs": [],
   "source": [
    "n = 15\n",
    "sizes = [2**i for i in range(5,n)]\n",
    "time_sorting = {\n",
    "    \"sizes\" : [],\n",
    "    \"quick_sort\" : [],\n",
    "    \"buble_sort\" : []\n",
    "}\n",
    "\n",
    "time_sorting[\"sizes\"] = sizes\n",
    "for size in sizes:\n",
    "    A = [random.randint(1,size*size) for _ in range(size)]\n",
    "    B = A.copy()\n",
    "    start = time.time()\n",
    "    result = quick_sort(A)\n",
    "    end = time.time()\n",
    "    if validate_sorted(result) == False: break\n",
    "    time_quick_sort = end - start\n",
    "\n",
    "    start = time.time()\n",
    "    result = buble_sort(B)\n",
    "    end = time.time()\n",
    "    if validate_sorted(result) == False: break\n",
    "    time_buble_sort = end - start\n",
    "\n",
    "    time_sorting[\"quick_sort\"].append(time_quick_sort)\n",
    "    time_sorting[\"buble_sort\"].append(time_buble_sort)\n",
    "\n"
   ]
  },
  {
   "cell_type": "code",
   "execution_count": 79,
   "id": "942fc6b8",
   "metadata": {},
   "outputs": [
    {
     "name": "stdout",
     "output_type": "stream",
     "text": [
      "{'sizes': [100, 200, 300, 400, 500, 600, 700, 800, 900, 1000], 'quick_sort': [0.0001628398895263672, 0.00022172927856445312, 0.00038623809814453125, 0.0005047321319580078, 0.0009322166442871094, 0.0008597373962402344, 0.0012590885162353516, 0.0012433528900146484, 0.001275777816772461, 0.0014743804931640625], 'buble_sort': [0.0004572868347167969, 0.0016856193542480469, 0.003965854644775391, 0.0077359676361083984, 0.011015176773071289, 0.023217201232910156, 0.025696516036987305, 0.03130030632019043, 0.040518760681152344, 0.0497746467590332]}\n"
     ]
    }
   ],
   "source": [
    "print(time_sorting)"
   ]
  },
  {
   "cell_type": "code",
   "execution_count": 89,
   "id": "257f890c",
   "metadata": {},
   "outputs": [
    {
     "data": {
      "text/plain": [
       "<function matplotlib.pyplot.show(close=None, block=None)>"
      ]
     },
     "execution_count": 89,
     "metadata": {},
     "output_type": "execute_result"
    },
    {
     "data": {
      "image/png": "[encoded data removed]",
      "text/plain": [
       "<Figure size 640x480 with 1 Axes>"
      ]
     },
     "metadata": {},
     "output_type": "display_data"
    }
   ],
   "source": [
    "import matplotlib.pyplot as plt\n",
    "\n",
    "plt.plot(time_sorting[\"sizes\"], time_sorting[\"buble_sort\"], marker = 'x')\n",
    "plt.plot(time_sorting[\"sizes\"], time_sorting[\"quick_sort\"], marker = 'o')\n",
    "plt.xscale('log')\n",
    "plt.yscale('log')\n",
    "plt.xticks((time_sorting[\"sizes\"]), (time_sorting[\"sizes\"]))\n",
    "\n",
    "plt.show"
   ]
  }
 ],
 "metadata": {
  "kernelspec": {
   "display_name": "Python 3",
   "language": "python",
   "name": "python3"
  },
  "language_info": {
   "codemirror_mode": {
    "name": "ipython",
    "version": 3
   },
   "file_extension": ".py",
   "mimetype": "text/x-python",
   "name": "python",
   "nbconvert_exporter": "python",
   "pygments_lexer": "ipython3",
   "version": "3.13.4"
  }
 },
 "nbformat": 4,
 "nbformat_minor": 5
}
