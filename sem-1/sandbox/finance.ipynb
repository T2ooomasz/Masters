{
 "cells": [
  {
   "cell_type": "markdown",
   "id": "39e52074",
   "metadata": {},
   "source": [
    "66% w 4 lata - ile średnio rocznie to zysku"
   ]
  },
  {
   "cell_type": "code",
   "execution_count": 16,
   "id": "f6afb9ae",
   "metadata": {},
   "outputs": [],
   "source": [
    "FINAL_GAIN = 66 # %\n",
    "YEARS = 3 + 9/12"
   ]
  },
  {
   "cell_type": "code",
   "execution_count": 10,
   "id": "7a95384f",
   "metadata": {},
   "outputs": [],
   "source": [
    "def calculate_yearly_gain(years, final_gain):\n",
    "    return ((1 + final_gain / 100)**(1 / years) - 1) * 100"
   ]
  },
  {
   "cell_type": "code",
   "execution_count": 17,
   "id": "1900d976",
   "metadata": {},
   "outputs": [
    {
     "data": {
      "text/plain": [
       "14.471003527322246"
      ]
     },
     "execution_count": 17,
     "metadata": {},
     "output_type": "execute_result"
    }
   ],
   "source": [
    "calculate_yearly_gain(YEARS, FINAL_GAIN)"
   ]
  },
  {
   "cell_type": "code",
   "execution_count": 18,
   "id": "7107c833",
   "metadata": {},
   "outputs": [
    {
     "data": {
      "text/plain": [
       "12.000706385313054"
      ]
     },
     "execution_count": 18,
     "metadata": {},
     "output_type": "execute_result"
    }
   ],
   "source": [
    "FINAL_GAIN = ((5*180-659)/659)*100\n",
    "YEARS = 2 + 9/12\n",
    "calculate_yearly_gain(YEARS, FINAL_GAIN)"
   ]
  },
  {
   "cell_type": "code",
   "execution_count": 20,
   "id": "3649a505",
   "metadata": {},
   "outputs": [
    {
     "data": {
      "text/plain": [
       "16.722488629734823"
      ]
     },
     "execution_count": 20,
     "metadata": {},
     "output_type": "execute_result"
    }
   ],
   "source": [
    "FINAL_GAIN = ((3*170-355.53)/355.53)*100\n",
    "YEARS = 2 + 4/12\n",
    "calculate_yearly_gain(YEARS, FINAL_GAIN)"
   ]
  }
 ],
 "metadata": {
  "kernelspec": {
   "display_name": "Python 3",
   "language": "python",
   "name": "python3"
  },
  "language_info": {
   "codemirror_mode": {
    "name": "ipython",
    "version": 3
   },
   "file_extension": ".py",
   "mimetype": "text/x-python",
   "name": "python",
   "nbconvert_exporter": "python",
   "pygments_lexer": "ipython3",
   "version": "3.13.4"
  }
 },
 "nbformat": 4,
 "nbformat_minor": 5
}
