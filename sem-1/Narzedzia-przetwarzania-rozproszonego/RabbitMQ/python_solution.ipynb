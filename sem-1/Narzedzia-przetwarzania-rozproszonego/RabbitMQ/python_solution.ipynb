{
 "cells": [
  {
   "cell_type": "markdown",
   "id": "d65cf47f",
   "metadata": {},
   "source": [
    "# RabbitMQ in python - pika"
   ]
  },
  {
   "cell_type": "markdown",
   "id": "5cff59af",
   "metadata": {},
   "source": [
    "### Jak uruchomić programy?\n",
    "Uruchom serwer RabbitMQ (np. przez `rabbitmq-server` w terminalu, jeśli jest zainstalowany).\n",
    "\n",
    "#### Uruchom konsumentów:\n",
    "* Dla punkt-punkt: `python point_to_point_consumer.py.`\n",
    "\n",
    "* Dla jeden-do-wielu: uruchom kilka instancji `python one_to_many_consumer.py` w osobnych terminalach.\n",
    "\n",
    "#### Uruchom producentów:\n",
    "* `python point_to_point_producer.py.`\n",
    "\n",
    "* `python one_to_many_producer.py.`\n",
    "\n",
    "#### Dlaczego te rozwiązania są poprawne?\n",
    "* Punkt-punkt: \n",
    "* * Używa jednej kolejki do bezpośredniej komunikacji.\n",
    "\n",
    "* * Mechanizm potwierdzenia zapewnia, że wiadomości są przetwarzane niezawodnie.\n",
    "\n",
    "* Jeden-do-wielu: \n",
    "* * Wymiana fanout rozsyła wiadomości do wszystkich konsumentów.\n",
    "\n",
    "* * Każdy konsument ma własną kolejkę, co pozwala na równoczesny odbiór.\n",
    "\n",
    "Te rozwiązania są proste, zgodne z celem zadania i pokazują podstawowe mechanizmy RabbitMQ w sposób "
   ]
  },
  {
   "cell_type": "code",
   "execution_count": null,
   "id": "fd599793",
   "metadata": {},
   "outputs": [],
   "source": [
    "import pika\n",
    "\n",
    "# Nawiązanie połączenia z serwerem RabbitMQ\n",
    "connection = pika.BlockingConnection(pika.ConnectionParameters('localhost'))\n",
    "channel = connection.channel()\n",
    "\n",
    "# Deklaracja kolejki\n",
    "channel.queue_declare(queue='point_to_point_queue')\n",
    "\n",
    "# Wysłanie wiadomości\n",
    "for i in range(5):\n",
    "    message = f\"Wiadomość {i}\"\n",
    "    channel.basic_publish(exchange='', routing_key='point_to_point_queue', body=message.encode())\n",
    "    print(f\"Wysłano: {message}\")\n",
    "\n",
    "# Zamknięcie połączenia\n",
    "connection.close()"
   ]
  },
  {
   "cell_type": "code",
   "execution_count": null,
   "id": "b71c8924",
   "metadata": {},
   "outputs": [],
   "source": [
    "import pika\n",
    "\n",
    "# Funkcja obsługująca odebrane wiadomości\n",
    "def callback(ch, method, properties, body):\n",
    "    print(f\"Odebrano: {body.decode()}\")\n",
    "    # Potwierdzenie przetworzenia wiadomości\n",
    "    ch.basic_ack(delivery_tag=method.delivery_tag)\n",
    "\n",
    "# Nawiązanie połączenia z serwerem RabbitMQ\n",
    "connection = pika.BlockingConnection(pika.ConnectionParameters('localhost'))\n",
    "channel = connection.channel()\n",
    "\n",
    "# Deklaracja kolejki\n",
    "channel.queue_declare(queue='point_to_point_queue')\n",
    "\n",
    "# Ustawienie konsumenta\n",
    "channel.basic_consume(queue='point_to_point_queue', on_message_callback=callback)\n",
    "\n",
    "print('Oczekiwanie na wiadomości. Aby zakończyć, naciśnij CTRL+C')\n",
    "channel.start_consuming()"
   ]
  },
  {
   "cell_type": "code",
   "execution_count": null,
   "id": "52bc8be7",
   "metadata": {},
   "outputs": [],
   "source": [
    "import pika\n",
    "\n",
    "# Nawiązanie połączenia z serwerem RabbitMQ\n",
    "connection = pika.BlockingConnection(pika.ConnectionParameters('localhost'))\n",
    "channel = connection.channel()\n",
    "\n",
    "# Deklaracja wymiany typu fanout\n",
    "channel.exchange_declare(exchange='fanout_exchange', exchange_type='fanout')\n",
    "\n",
    "# Wysłanie wiadomości\n",
    "for i in range(5):\n",
    "    message = f\"Wiadomość rozgłoszeniowa {i}\"\n",
    "    channel.basic_publish(exchange='fanout_exchange', routing_key='', body=message.encode())\n",
    "    print(f\"Wysłano: {message}\")\n",
    "\n",
    "# Zamknięcie połączenia\n",
    "connection.close()"
   ]
  },
  {
   "cell_type": "code",
   "execution_count": null,
   "id": "2c955d7b",
   "metadata": {},
   "outputs": [],
   "source": [
    "import pika\n",
    "\n",
    "# Funkcja obsługująca odebrane wiadomości\n",
    "def callback(ch, method, properties, body):\n",
    "    print(f\"Odebrano: {body.decode()}\")\n",
    "\n",
    "# Nawiązanie połączenia z serwerem RabbitMQ\n",
    "connection = pika.BlockingConnection(pika.ConnectionParameters('localhost'))\n",
    "channel = connection.channel()\n",
    "\n",
    "# Deklaracja wymiany typu fanout\n",
    "channel.exchange_declare(exchange='fanout_exchange', exchange_type='fanout')\n",
    "\n",
    "# Deklaracja tymczasowej kolejki\n",
    "result = channel.queue_declare(queue='', exclusive=True)\n",
    "queue_name = result.method.queue\n",
    "\n",
    "# Powiązanie kolejki z wymianą\n",
    "channel.queue_bind(exchange='fanout_exchange', queue=queue_name)\n",
    "\n",
    "# Ustawienie konsumenta\n",
    "channel.basic_consume(queue=queue_name, on_message_callback=callback, auto_ack=True)\n",
    "\n",
    "print('Oczekiwanie na wiadomości. Aby zakończyć, naciśnij CTRL+C')\n",
    "channel.start_consuming()"
   ]
  }
 ],
 "metadata": {
  "kernelspec": {
   "display_name": "Python 3",
   "language": "python",
   "name": "python3"
  },
  "language_info": {
   "codemirror_mode": {
    "name": "ipython",
    "version": 3
   },
   "file_extension": ".py",
   "mimetype": "text/x-python",
   "name": "python",
   "nbconvert_exporter": "python",
   "pygments_lexer": "ipython3",
   "version": "3.13.4"
  }
 },
 "nbformat": 4,
 "nbformat_minor": 5
}
